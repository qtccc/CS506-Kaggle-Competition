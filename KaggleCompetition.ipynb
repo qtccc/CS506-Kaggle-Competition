{
 "cells": [
  {
   "cell_type": "markdown",
   "metadata": {},
   "source": [
    "# Libraries"
   ]
  },
  {
   "cell_type": "code",
   "execution_count": 2,
   "metadata": {},
   "outputs": [],
   "source": [
    "import pickle\n",
    "import pandas as pd\n",
    "import seaborn as sns\n",
    "from os.path import exists\n",
    "import matplotlib.pyplot as plt\n",
    "from sklearn.neighbors import KNeighborsClassifier\n",
    "from sklearn.preprocessing import StandardScaler\n",
    "from sklearn.model_selection import train_test_split\n",
    "from sklearn.metrics import accuracy_score, confusion_matrix\n",
    "from sklearn.pipeline import Pipeline\n",
    "from sklearn.impute import SimpleImputer\n"
   ]
  },
  {
   "cell_type": "markdown",
   "metadata": {},
   "source": [
    "# Loading the Files\n",
    "\n",
    "Download the csv files into the `data/` directory."
   ]
  },
  {
   "cell_type": "code",
   "execution_count": 4,
   "metadata": {},
   "outputs": [
    {
     "name": "stdout",
     "output_type": "stream",
     "text": [
      "Columns in trainingSet: Index(['Id', 'ProductId', 'UserId', 'HelpfulnessNumerator',\n",
      "       'HelpfulnessDenominator', 'Time', 'Summary', 'Text', 'Score'],\n",
      "      dtype='object')\n",
      "Columns in testingSet: Index(['Id', 'Score'], dtype='object')\n",
      "Columns in trainingSet after loading: Index(['Id', 'ProductId', 'UserId', 'HelpfulnessNumerator',\n",
      "       'HelpfulnessDenominator', 'Time', 'Summary', 'Text', 'Score'],\n",
      "      dtype='object')\n",
      "Columns in testingSet after loading: Index(['Id', 'Score'], dtype='object')\n",
      "train.csv shape is  (1697533, 9)\n",
      "test.csv shape is  (212192, 2)\n",
      "\n",
      "        Id   ProductId          UserId  HelpfulnessNumerator  \\\n",
      "0   914403  B0009W5KHM   AV6QDP8Q0ONK4                     2   \n",
      "1   354887  6303079709  A2I8RXJN80A2D2                     0   \n",
      "2  1407653  B004H0M2XC  A3FHV3RV8Z12E6                     0   \n",
      "3  1377458  B003ZJ9536  A12VLTA3ZHVPUY                     1   \n",
      "4   475323  630574453X  A13NM1PES9OXVN                     2   \n",
      "\n",
      "   HelpfulnessDenominator        Time  \\\n",
      "0                       2  1341014400   \n",
      "1                       0  1168819200   \n",
      "2                       0  1386201600   \n",
      "3                       1  1348704000   \n",
      "4                       3   970012800   \n",
      "\n",
      "                                         Summary  \\\n",
      "0                                  GOOD FUN FILM   \n",
      "1                                   Movie Review   \n",
      "2             When is it a good time to Consent?   \n",
      "3                                          TRUTH   \n",
      "4  Intelligent and bittersweet -- stays with you   \n",
      "\n",
      "                                                Text  Score  \n",
      "0  While most straight to DVD films are not worth...    5.0  \n",
      "1  I have wanted this one for sometime, also.  I ...    5.0  \n",
      "2  Actually this was a pretty darn good indie fil...    4.0  \n",
      "3  Episodes 37 to 72 of the series press on in a ...    5.0  \n",
      "4  I was really impressed with this movie, but wa...    3.0  \n",
      "\n",
      "        Id  Score\n",
      "0  1323432    NaN\n",
      "1  1137299    NaN\n",
      "2  1459366    NaN\n",
      "3   931601    NaN\n",
      "4  1311995    NaN\n",
      "\n",
      "                 Id  HelpfulnessNumerator  HelpfulnessDenominator  \\\n",
      "count  1.697533e+06          1.697533e+06            1.697533e+06   \n",
      "mean   8.487660e+05          3.569048e+00            5.301422e+00   \n",
      "std    4.900357e+05          1.727883e+01            2.024445e+01   \n",
      "min    0.000000e+00          0.000000e+00            0.000000e+00   \n",
      "25%    4.243830e+05          0.000000e+00            0.000000e+00   \n",
      "50%    8.487660e+05          1.000000e+00            1.000000e+00   \n",
      "75%    1.273149e+06          3.000000e+00            5.000000e+00   \n",
      "max    1.697532e+06          6.084000e+03            6.510000e+03   \n",
      "\n",
      "               Time         Score  \n",
      "count  1.697533e+06  1.485341e+06  \n",
      "mean   1.262422e+09  4.110517e+00  \n",
      "std    1.289277e+08  1.197651e+00  \n",
      "min    8.793792e+08  1.000000e+00  \n",
      "25%    1.164413e+09  4.000000e+00  \n",
      "50%    1.307491e+09  5.000000e+00  \n",
      "75%    1.373242e+09  5.000000e+00  \n",
      "max    1.406074e+09  5.000000e+00  \n"
     ]
    },
    {
     "data": {
      "image/png": "[encoded data removed]",
      "text/plain": [
       "<Figure size 640x480 with 1 Axes>"
      ]
     },
     "metadata": {},
     "output_type": "display_data"
    },
    {
     "name": "stdout",
     "output_type": "stream",
     "text": [
      "\n",
      "EVERYTHING IS PROPERLY SET UP! YOU ARE READY TO START\n"
     ]
    }
   ],
   "source": [
    "# don't use the average score of the product, as these are the data you shouldn't have access to\n",
    "trainingSet = pd.read_csv(\"./data/train.csv\")\n",
    "testingSet = pd.read_csv(\"./data/test.csv\")\n",
    "\n",
    "# # Debug: Check loaded columns to confirm required columns are present\n",
    "# print(\"Columns in trainingSet:\", trainingSet.columns)\n",
    "# print(\"Columns in testingSet:\", testingSet.columns)\n",
    "# ###\n",
    "# # Debug: Check loaded columns\n",
    "# print(\"Columns in trainingSet after loading:\", trainingSet.columns)\n",
    "# print(\"Columns in testingSet after loading:\", testingSet.columns)\n",
    "# ####\n",
    "\n",
    "print(\"train.csv shape is \", trainingSet.shape)\n",
    "print(\"test.csv shape is \", testingSet.shape) # all the IDs you need to make predictions for\n",
    "\n",
    "print()\n",
    "\n",
    "print(trainingSet.head())\n",
    "print()\n",
    "print(testingSet.head())\n",
    "\n",
    "print()\n",
    "\n",
    "print(trainingSet.describe())\n",
    "\n",
    "trainingSet['Score'].value_counts().plot(kind='bar', legend=True, alpha=.5)\n",
    "plt.show()\n",
    "\n",
    "print()\n",
    "print(\"EVERYTHING IS PROPERLY SET UP! YOU ARE READY TO START\")"
   ]
  },
  {
   "cell_type": "markdown",
   "metadata": {},
   "source": [
    "# Adding Features"
   ]
  },
  {
   "cell_type": "code",
   "execution_count": 6,
   "metadata": {},
   "outputs": [],
   "source": [
    "def add_features_to(df):\n",
    "    # Debug: Check columns in the input DataFrame\n",
    "    # print(\"Columns in df at the start of add_features_to:\", df.columns)\n",
    "\n",
    "    # Only perform Helpfulness calculations if the required columns are present\n",
    "    if 'HelpfulnessNumerator' in df.columns and 'HelpfulnessDenominator' in df.columns:\n",
    "        df['Helpfulness'] = df['HelpfulnessNumerator'] / df['HelpfulnessDenominator']\n",
    "        df['Helpfulness'] = df['Helpfulness'].fillna(0)  # Fill NaN with 0 where Denominator is 0\n",
    "    else:\n",
    "        print(\"Warning: 'HelpfulnessNumerator' or 'HelpfulnessDenominator' is missing.\")\n",
    "        df['Helpfulness'] = 0  # Placeholder if columns are missing\n",
    "\n",
    "    # Text Length\n",
    "    df['Text_Length'] = df['Text'].apply(lambda x: len(str(x))) if 'Text' in df.columns else 0\n",
    "    \n",
    "    # Summary Length\n",
    "    df['Summary_Length'] = df['Summary'].apply(lambda x: len(str(x))) if 'Summary' in df.columns else 0\n",
    "    \n",
    "    # Word Count in Text\n",
    "    df['Word_Count'] = df['Text'].apply(lambda x: len(str(x).split())) if 'Text' in df.columns else 0\n",
    "    \n",
    "    # Average Word Length in Text\n",
    "    df['Avg_Word_Length'] = (\n",
    "        df['Text'].apply(lambda x: sum(len(word) for word in str(x).split()) / (len(str(x).split()) + 1e-5))\n",
    "        if 'Text' in df.columns else 0\n",
    "    )\n",
    "\n",
    "    # Sentiment Analysis for Text and Summary (using TextBlob)\n",
    "    try:\n",
    "        from textblob import TextBlob\n",
    "        df['Text_Sentiment'] = (\n",
    "            df['Text'].apply(lambda x: TextBlob(str(x)).sentiment.polarity) if 'Text' in df.columns else 0\n",
    "        )\n",
    "        df['Summary_Sentiment'] = (\n",
    "            df['Summary'].apply(lambda x: TextBlob(str(x)).sentiment.polarity) if 'Summary' in df.columns else 0\n",
    "        )\n",
    "    except ImportError:\n",
    "        print(\"TextBlob not installed; skipping sentiment features.\")\n",
    "        df['Text_Sentiment'] = 0\n",
    "        df['Summary_Sentiment'] = 0\n",
    "\n",
    "    # Helpfulness Vote Count\n",
    "    df['Helpfulness_Vote_Count'] = df['HelpfulnessDenominator'] if 'HelpfulnessDenominator' in df.columns else 0\n",
    "    \n",
    "    # Year and Month from Timestamp\n",
    "    if 'Time' in df.columns:\n",
    "        df['Review_Date'] = pd.to_datetime(df['Time'], unit='s')\n",
    "        df['Review_Year'] = df['Review_Date'].dt.year\n",
    "        df['Review_Month'] = df['Review_Date'].dt.month\n",
    "        df.drop(columns=['Review_Date'], inplace=True)\n",
    "    else:\n",
    "        df['Review_Year'] = 0\n",
    "        df['Review_Month'] = 0\n",
    "\n",
    "    # Product and User Mean Score\n",
    "    if 'Score' in df.columns and 'ProductId' in df.columns and 'UserId' in df.columns:\n",
    "        product_mean_score = df.groupby('ProductId')['Score'].transform('mean')\n",
    "        user_mean_score = df.groupby('UserId')['Score'].transform('mean')\n",
    "        df['Product_Mean_Score'] = product_mean_score\n",
    "        df['User_Mean_Score'] = user_mean_score\n",
    "    else:\n",
    "        # For test set, we assume the mean scores are calculated beforehand\n",
    "        df['Product_Mean_Score'] = 0  # Placeholder, or load from pre-computed values\n",
    "        df['User_Mean_Score'] = 0     # Placeholder, or load from pre-computed values\n",
    "\n",
    "    return df"
   ]
  },
  {
   "cell_type": "markdown",
   "metadata": {},
   "source": [
    "# Sample + Split into training and testing set"
   ]
  },
  {
   "cell_type": "code",
   "execution_count": 8,
   "metadata": {},
   "outputs": [
    {
     "name": "stdout",
     "output_type": "stream",
     "text": [
      "Columns in df at the start of add_features_to: Index(['Id', 'ProductId', 'UserId', 'HelpfulnessNumerator',\n",
      "       'HelpfulnessDenominator', 'Time', 'Summary', 'Text', 'Score'],\n",
      "      dtype='object')\n",
      "TextBlob not installed; skipping sentiment features.\n",
      "Columns in X_train_full after feature engineering: Index(['Id', 'ProductId', 'UserId', 'HelpfulnessNumerator',\n",
      "       'HelpfulnessDenominator', 'Time', 'Summary', 'Text', 'Score',\n",
      "       'Helpfulness', 'Text_Length', 'Summary_Length', 'Word_Count',\n",
      "       'Avg_Word_Length', 'Text_Sentiment', 'Summary_Sentiment',\n",
      "       'Helpfulness_Vote_Count', 'Review_Year', 'Review_Month',\n",
      "       'Product_Mean_Score', 'User_Mean_Score'],\n",
      "      dtype='object')\n"
     ]
    }
   ],
   "source": [
    "from sklearn.model_selection import train_test_split\n",
    "\n",
    "# Apply feature engineering to create X_train_full\n",
    "X_train_full = add_features_to(trainingSet)\n",
    "\n",
    "# Check if X_train_full is created successfully\n",
    "print(\"Columns in X_train_full after feature engineering:\", X_train_full.columns)\n",
    "\n",
    "# Drop 'Score' from X_train_full for the split and use Y_train as the target variable\n",
    "X_train, X_test, Y_train, Y_test = train_test_split(\n",
    "    X_train_full.drop(columns=['Score']),\n",
    "    X_train_full['Score'],\n",
    "    test_size=1/4.0,\n",
    "    random_state=0\n",
    ")"
   ]
  },
  {
   "cell_type": "markdown",
   "metadata": {},
   "source": [
    "# Feature Selection"
   ]
  },
  {
   "cell_type": "code",
   "execution_count": 10,
   "metadata": {},
   "outputs": [
    {
     "name": "stdout",
     "output_type": "stream",
     "text": [
      "Columns in df at the start of add_features_to: Index(['Id', 'ProductId', 'UserId', 'HelpfulnessNumerator',\n",
      "       'HelpfulnessDenominator', 'Time', 'Summary', 'Text', 'Score',\n",
      "       'Helpfulness', 'Text_Length', 'Summary_Length', 'Word_Count',\n",
      "       'Avg_Word_Length', 'Text_Sentiment', 'Summary_Sentiment',\n",
      "       'Helpfulness_Vote_Count', 'Review_Year', 'Review_Month',\n",
      "       'Product_Mean_Score', 'User_Mean_Score'],\n",
      "      dtype='object')\n",
      "TextBlob not installed; skipping sentiment features.\n",
      "Columns in df at the start of add_features_to: Index(['Id', 'Score'], dtype='object')\n",
      "Warning: 'HelpfulnessNumerator' or 'HelpfulnessDenominator' is missing.\n",
      "TextBlob not installed; skipping sentiment features.\n",
      "Train features selected: ['Review_Month', 'HelpfulnessNumerator', 'Word_Count', 'Summary_Length', 'Text_Length', 'User_Mean_Score', 'Text_Sentiment', 'Avg_Word_Length', 'Summary_Sentiment', 'Helpfulness', 'HelpfulnessDenominator', 'Helpfulness_Vote_Count', 'Product_Mean_Score', 'Review_Year']\n",
      "Test features selected: ['Review_Month', 'HelpfulnessNumerator', 'Word_Count', 'Summary_Length', 'Text_Length', 'User_Mean_Score', 'Text_Sentiment', 'Avg_Word_Length', 'Summary_Sentiment', 'Helpfulness', 'HelpfulnessDenominator', 'Helpfulness_Vote_Count', 'Product_Mean_Score', 'Review_Year']\n",
      "Submission features selected: ['Review_Month', 'Word_Count', 'Summary_Length', 'Text_Length', 'User_Mean_Score', 'Text_Sentiment', 'Avg_Word_Length', 'Summary_Sentiment', 'Helpfulness', 'Helpfulness_Vote_Count', 'Product_Mean_Score', 'Review_Year']\n"
     ]
    }
   ],
   "source": [
    "# Apply feature engineering to training and testing sets\n",
    "X_train_full = add_features_to(trainingSet)\n",
    "X_submission = add_features_to(testingSet)\n",
    "\n",
    "# Target variable\n",
    "Y_train = X_train_full['Score']\n",
    "X_train_full = X_train_full.drop(columns=['Score'])\n",
    "\n",
    "# Split into training and testing sets\n",
    "X_train, X_test, Y_train, Y_test = train_test_split(\n",
    "    X_train_full, Y_train, test_size=1/4.0, random_state=0\n",
    ")\n",
    "\n",
    "# Define the desired features\n",
    "features = [\n",
    "    'Helpfulness', 'HelpfulnessNumerator', 'HelpfulnessDenominator',\n",
    "    'Text_Length', 'Summary_Length', 'Word_Count', 'Avg_Word_Length',\n",
    "    'Text_Sentiment', 'Summary_Sentiment', 'Helpfulness_Vote_Count',\n",
    "    'Review_Year', 'Review_Month', 'Product_Mean_Score', 'User_Mean_Score'\n",
    "]\n",
    "\n",
    "# Calculate the intersection of features and available columns for each dataset\n",
    "train_features = list(set(features) & set(X_train.columns))\n",
    "test_features = list(set(features) & set(X_test.columns))\n",
    "submission_features = list(set(features) & set(X_submission.columns))\n",
    "\n",
    "# Debug: Verify the selected features and available columns\n",
    "print(\"Train features selected:\", train_features)\n",
    "print(\"Test features selected:\", test_features)\n",
    "print(\"Submission features selected:\", submission_features)\n",
    "\n",
    "# Select these features from the datasets\n",
    "X_train_select = X_train[train_features]\n",
    "X_test_select = X_test[test_features]\n",
    "X_submission_select = X_submission[submission_features]"
   ]
  },
  {
   "cell_type": "markdown",
   "metadata": {},
   "source": [
    "# Model Creation"
   ]
  },
  {
   "cell_type": "code",
   "execution_count": 12,
   "metadata": {},
   "outputs": [
    {
     "name": "stdout",
     "output_type": "stream",
     "text": [
      "Columns in df at the start of add_features_to: Index(['Id', 'ProductId', 'UserId', 'HelpfulnessNumerator',\n",
      "       'HelpfulnessDenominator', 'Time', 'Summary', 'Text', 'Score',\n",
      "       'Helpfulness', 'Text_Length', 'Summary_Length', 'Word_Count',\n",
      "       'Avg_Word_Length', 'Text_Sentiment', 'Summary_Sentiment',\n",
      "       'Helpfulness_Vote_Count', 'Review_Year', 'Review_Month',\n",
      "       'Product_Mean_Score', 'User_Mean_Score'],\n",
      "      dtype='object')\n",
      "TextBlob not installed; skipping sentiment features.\n",
      "Columns in df at the start of add_features_to: Index(['Id', 'Score', 'Helpfulness', 'Text_Length', 'Summary_Length',\n",
      "       'Word_Count', 'Avg_Word_Length', 'Text_Sentiment', 'Summary_Sentiment',\n",
      "       'Helpfulness_Vote_Count', 'Review_Year', 'Review_Month',\n",
      "       'Product_Mean_Score', 'User_Mean_Score'],\n",
      "      dtype='object')\n",
      "Warning: 'HelpfulnessNumerator' or 'HelpfulnessDenominator' is missing.\n",
      "TextBlob not installed; skipping sentiment features.\n"
     ]
    }
   ],
   "source": [
    "# Apply feature engineering to training and testing sets\n",
    "X_train_full = add_features_to(trainingSet)\n",
    "X_submission = add_features_to(testingSet)\n",
    "\n",
    "# Remove rows with NaN in 'Score' from X_train_full and Y_train\n",
    "X_train_full = X_train_full.dropna(subset=['Score'])\n",
    "Y_train = X_train_full['Score']\n",
    "X_train_full = X_train_full.drop(columns=['Score'])\n",
    "\n",
    "# Split into training and testing sets\n",
    "from sklearn.model_selection import train_test_split\n",
    "X_train, X_test, Y_train, Y_test = train_test_split(\n",
    "    X_train_full, Y_train, test_size=1/4.0, random_state=0\n",
    ")\n",
    "\n",
    "# Select only numeric columns for scaling and imputation\n",
    "X_train_numeric = X_train.select_dtypes(include=['float64', 'int64'])\n",
    "X_test_numeric = X_test.select_dtypes(include=['float64', 'int64'])\n",
    "\n",
    "# Impute missing values in the feature data and scale\n",
    "from sklearn.impute import SimpleImputer\n",
    "from sklearn.preprocessing import StandardScaler\n",
    "from sklearn.pipeline import Pipeline\n",
    "\n",
    "preprocessor = Pipeline([\n",
    "    ('imputer', SimpleImputer(strategy='mean')),  # Fill missing values with column mean\n",
    "    ('scaler', StandardScaler())                  # Scale features\n",
    "])\n",
    "\n",
    "X_train_scaled = preprocessor.fit_transform(X_train_numeric)\n",
    "X_test_scaled = preprocessor.transform(X_test_numeric)\n",
    "\n",
    "# Create and train the KNeighborsClassifier model\n",
    "from sklearn.neighbors import KNeighborsClassifier\n",
    "model = KNeighborsClassifier(n_neighbors=3)\n",
    "model.fit(X_train_scaled, Y_train)\n",
    "\n",
    "# Predict the score using the model\n",
    "Y_test_predictions = model.predict(X_test_scaled)"
   ]
  },
  {
   "cell_type": "markdown",
   "metadata": {},
   "source": [
    "# Model Evaluation"
   ]
  },
  {
   "cell_type": "code",
   "execution_count": 14,
   "metadata": {},
   "outputs": [
    {
     "name": "stdout",
     "output_type": "stream",
     "text": [
      "Accuracy on testing set =  0.5310177305728505\n"
     ]
    },
    {
     "data": {
      "image/png": "[encoded data removed]",
      "text/plain": [
       "<Figure size 640x480 with 2 Axes>"
      ]
     },
     "metadata": {},
     "output_type": "display_data"
    }
   ],
   "source": [
    "# Evaluate your model on the testing set\n",
    "print(\"Accuracy on testing set = \", accuracy_score(Y_test, Y_test_predictions))\n",
    "\n",
    "# Confusion matrix\n",
    "cm = confusion_matrix(Y_test, Y_test_predictions, normalize='true')\n",
    "sns.heatmap(cm, annot=True)\n",
    "plt.title('Confusion matrix of the classifier')\n",
    "plt.xlabel('Predicted')\n",
    "plt.ylabel('True')\n",
    "plt.show()"
   ]
  },
  {
   "cell_type": "markdown",
   "metadata": {},
   "source": [
    "# Create submission file"
   ]
  },
  {
   "cell_type": "code",
   "execution_count": 16,
   "metadata": {},
   "outputs": [
    {
     "name": "stdout",
     "output_type": "stream",
     "text": [
      "Columns in df at the start of add_features_to: Index(['Id', 'ProductId', 'UserId', 'HelpfulnessNumerator',\n",
      "       'HelpfulnessDenominator', 'Time', 'Summary', 'Text', 'Score',\n",
      "       'Helpfulness', 'Text_Length', 'Summary_Length', 'Word_Count',\n",
      "       'Avg_Word_Length', 'Text_Sentiment', 'Summary_Sentiment',\n",
      "       'Helpfulness_Vote_Count', 'Review_Year', 'Review_Month',\n",
      "       'Product_Mean_Score', 'User_Mean_Score'],\n",
      "      dtype='object')\n",
      "TextBlob not installed; skipping sentiment features.\n",
      "Columns in df at the start of add_features_to: Index(['Id', 'Score', 'Helpfulness', 'Text_Length', 'Summary_Length',\n",
      "       'Word_Count', 'Avg_Word_Length', 'Text_Sentiment', 'Summary_Sentiment',\n",
      "       'Helpfulness_Vote_Count', 'Review_Year', 'Review_Month',\n",
      "       'Product_Mean_Score', 'User_Mean_Score'],\n",
      "      dtype='object')\n",
      "Warning: 'HelpfulnessNumerator' or 'HelpfulnessDenominator' is missing.\n",
      "TextBlob not installed; skipping sentiment features.\n"
     ]
    }
   ],
   "source": [
    "# Create the submission file\n",
    "# Define the features to use consistently (excluding 'Id' and 'Time')\n",
    "features = [\n",
    "    'Helpfulness', 'HelpfulnessNumerator', 'HelpfulnessDenominator',\n",
    "    'Text_Length', 'Summary_Length', 'Word_Count', 'Avg_Word_Length',\n",
    "    'Text_Sentiment', 'Summary_Sentiment', 'Helpfulness_Vote_Count',\n",
    "    'Review_Year', 'Review_Month', 'Product_Mean_Score', 'User_Mean_Score'\n",
    "]\n",
    "\n",
    "# Apply feature engineering to training and testing sets\n",
    "X_train_full = add_features_to(trainingSet)\n",
    "X_submission = add_features_to(testingSet)\n",
    "\n",
    "# Drop any rows with NaN values in 'Score' column in X_train_full\n",
    "X_train_full = X_train_full.dropna(subset=['Score'])\n",
    "Y_train = X_train_full['Score']\n",
    "X_train_full = X_train_full.drop(columns=['Score'])\n",
    "\n",
    "# Split into training and testing sets\n",
    "from sklearn.model_selection import train_test_split\n",
    "X_train, X_test, Y_train, Y_test = train_test_split(\n",
    "    X_train_full[features], Y_train, test_size=1/4.0, random_state=0\n",
    ")\n",
    "\n",
    "# Impute missing values in the feature data and scale\n",
    "from sklearn.impute import SimpleImputer\n",
    "from sklearn.preprocessing import StandardScaler\n",
    "from sklearn.pipeline import Pipeline\n",
    "\n",
    "preprocessor = Pipeline([\n",
    "    ('imputer', SimpleImputer(strategy='mean')),  # Fill missing values with column mean\n",
    "    ('scaler', StandardScaler())                  # Scale features\n",
    "])\n",
    "\n",
    "X_train_scaled = preprocessor.fit_transform(X_train)\n",
    "X_test_scaled = preprocessor.transform(X_test)\n",
    "\n",
    "# Train the model\n",
    "from sklearn.neighbors import KNeighborsClassifier\n",
    "model = KNeighborsClassifier(n_neighbors=3)\n",
    "model.fit(X_train_scaled, Y_train)\n",
    "\n",
    "# Predict the test set\n",
    "Y_test_predictions = model.predict(X_test_scaled)\n",
    "\n",
    "# Ensure X_submission_select has consistent feature columns\n",
    "X_submission_select = X_submission.reindex(columns=features, fill_value=0)\n",
    "\n",
    "# Transform the submission data using the previously fitted preprocessor\n",
    "X_submission_scaled = preprocessor.transform(X_submission_select)\n",
    "\n",
    "# Predict the Score for the submission data\n",
    "Y_submission_predictions = model.predict(X_submission_scaled)\n",
    "\n",
    "# Create the submission DataFrame with the required format\n",
    "submission_df = pd.DataFrame({\n",
    "    'Id': X_submission['Id'],  # Ensure 'Id' is included from X_submission\n",
    "    'Score': Y_submission_predictions\n",
    "})\n",
    "\n",
    "# Save the submission DataFrame as a CSV file\n",
    "submission_df.to_csv(\"./data/submission.csv\", index=False)"
   ]
  },
  {
   "cell_type": "code",
   "execution_count": null,
   "metadata": {},
   "outputs": [],
   "source": []
  }
 ],
 "metadata": {
  "kernelspec": {
   "display_name": "Python 3 (ipykernel)",
   "language": "python",
   "name": "python3"
  },
  "language_info": {
   "codemirror_mode": {
    "name": "ipython",
    "version": 3
   },
   "file_extension": ".py",
   "mimetype": "text/x-python",
   "name": "python",
   "nbconvert_exporter": "python",
   "pygments_lexer": "ipython3",
   "version": "3.12.4"
  }
 },
 "nbformat": 4,
 "nbformat_minor": 4
}
